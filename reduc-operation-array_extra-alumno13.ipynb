{
 "cells": [
  {
   "cell_type": "markdown",
   "id": "f942d288-be01-42cd-9b84-83529c6769be",
   "metadata": {},
   "source": [
    "## Reduction operation: the sum of the numbers in the range [0, value)"
   ]
  },
  {
   "cell_type": "code",
   "execution_count": 1,
   "id": "496946fa-2a28-4c1d-8a6a-2ee0b8fd8ced",
   "metadata": {},
   "outputs": [
    {
     "name": "stdout",
     "output_type": "stream",
     "text": [
      "Time taken by reduction operation using a function: 4.85 ms ± 54.9 µs per loop (mean ± std. dev. of 2 runs, 100 loops each)\n",
      "And the result of the sum of numbers in the range [0, value) is: 24865.242233149536\n",
      "\n",
      "Time taken by reduction operation using numpy.sum(): 15 µs ± 18.6 ns per loop (mean ± std. dev. of 2 runs, 100,000 loops each)\n",
      "Now, the result using numpy.sum(): 24865.242233149464 \n",
      " \n",
      "Time taken by reduction operation using numpy.ndarray.sum(): 12.7 µs ± 20.9 ns per loop (mean ± std. dev. of 2 runs, 100,000 loops each)\n",
      "Now, the result using numpy.ndarray.sum(): 24865.242233149464\n"
     ]
    }
   ],
   "source": [
    "import numpy as np\n",
    "import sys\n",
    "\n",
    "def reduc_operation(A):\n",
    "    \"\"\"Compute the sum of the elements of Array A in the range [0, value).\"\"\"\n",
    "    s = 0\n",
    "    for i in range(A.size):\n",
    "        s += A[i]\n",
    "    return s\n",
    "\n",
    "# Secuencial\n",
    "\n",
    "value = int(sys.argv[1])\n",
    "\n",
    "X = np.random.rand(value)\n",
    "\n",
    "# Para imprimir los pimeros valores del array\n",
    "\n",
    "# print(X[0:12])\n",
    "\n",
    "# Utilizando las operaciones mágicas de ipython\n",
    "\n",
    "tiempo = %timeit -r 2 -o -q reduc_operation(X)\n",
    "\n",
    "print(\"Time taken by reduction operation using a function:\", tiempo)\n",
    "\n",
    "\n",
    "print(f\"And the result of the sum of numbers in the range [0, value) is: {reduc_operation(X)}\\n\")\n",
    "\n",
    "\n",
    "# Utilizando numpy.sum()\n",
    "\n",
    "tiempo = %timeit -r 2 -o -q np.sum(X)\n",
    "\n",
    "print(\"Time taken by reduction operation using numpy.sum():\", tiempo)\n",
    "\n",
    "print(\"Now, the result using numpy.sum():\", np.sum(X),\"\\n \")\n",
    "\n",
    "\n",
    "# Utilizando numpy.ndarray.sum()\n",
    "\n",
    "tiempo= %timeit -r 2 -o -q X.sum()\n",
    "\n",
    "print(\"Time taken by reduction operation using numpy.ndarray.sum():\", tiempo)\n",
    "\n",
    "print(\"Now, the result using numpy.ndarray.sum():\", X.sum())\n",
    "\n",
    "\n"
   ]
  },
  {
   "cell_type": "markdown",
   "id": "c45e817c-3abb-47e9-a4e4-a27d0aadada2",
   "metadata": {},
   "source": [
    "#### EJERCICIO EXTRA (3.4). APARTADO 1"
   ]
  },
  {
   "cell_type": "code",
   "execution_count": 8,
   "id": "4eeb6f51-6690-47fc-9339-fcaa466abee2",
   "metadata": {},
   "outputs": [
    {
     "name": "stdout",
     "output_type": "stream",
     "text": [
      "El tiempo utilizando solo un proceso es: 6.41 ms ± 634 µs per loop (mean ± std. dev. of 2 runs, 100 loops each)\n",
      "El tiempo utilizando dos procesos es: 3.14 ms ± 12.5 µs per loop (mean ± std. dev. of 2 runs, 100 loops each)\n",
      "El tiempo utilizando cuatro procesos es: 2.3 ms ± 140 µs per loop (mean ± std. dev. of 2 runs, 100 loops each)\n"
     ]
    }
   ],
   "source": [
    "from multiprocessing import Pool\n",
    "\n",
    "# Creamos la nueva función\n",
    "def sum_multiprocessing(A, ini, fin):\n",
    "    \"\"\"Compute the sum of the elements of Array A in the range [ini, fin).\"\"\"\n",
    "    s = 0\n",
    "    for i in range(ini, fin):\n",
    "        s += A[i]\n",
    "    return s\n",
    "\n",
    "if __name__ == \"__main__\":\n",
    "    # Caso 1: con un solo proceso\n",
    "    with Pool(1) as p:\n",
    "        tiempo1 = %timeit -r 2 -o -q p.starmap(sum_multiprocessing, [(X, 0, value)])\n",
    "        print(\"El tiempo utilizando solo un proceso es:\", tiempo1)\n",
    "        \n",
    "    # Caso 2: con dos procesos\n",
    "    with Pool(2) as p:\n",
    "        iterable = [(X, 0, int(value/2)), (X, int(value/2), value)]\n",
    "        tiempo2 = %timeit -r 2 -o -q p.starmap(sum_multiprocessing, iterable)\n",
    "        print(\"El tiempo utilizando dos procesos es:\", tiempo2)\n",
    "\n",
    "    # Caso 3: con cuatro procesos\n",
    "    with Pool(4) as p:\n",
    "        iterable = [(X, 0, int(value/4)), (X, int(value/4), int(value/2)),\n",
    "            (X, int(value/2), int(3*value/4)), (X, int(3*value/4), value)]\n",
    "        tiempo4 = %timeit -r 2 -o -q p.starmap(sum_multiprocessing, iterable)\n",
    "        print(\"El tiempo utilizando cuatro procesos es:\", tiempo4)"
   ]
  },
  {
   "cell_type": "markdown",
   "id": "f291bffe-07b9-40e2-8be3-fbc710703318",
   "metadata": {},
   "source": [
    "#### Resultados de la ejecución en hpc-bio-pascal:\n",
    "Ejecutando el notebook con 50000000 elementos\n",
    "\n",
    "Time taken by reduction operation using a function: 45.3 s ± 31.9 ms per loop (mean ± std. dev. of 2 runs, 1 loop each)\n",
    "And the result of the sum of numbers in the range [0, value) is: 24999945.170735486\n",
    "\n",
    "Time taken by reduction operation using numpy.sum(): 61.2 ms ± 653 µs per loop (mean ± std. dev. of 2 runs, 10 loops each)\n",
    "Now, the result using numpy.sum(): 24999945.170724235\n",
    "\n",
    "Time taken by reduction operation using numpy.ndarray.sum(): 60.2 ms ± 44.7 µs per loop (mean ± std. dev. of 2 runs, 10 loops each)\n",
    "Now, the result using numpy.ndarray.sum(): 24999945.170724235\n",
    "\n",
    "El tiempo utilizando solo un proceso es: 48 s ± 2.86 ms per loop (mean ± std. dev. of 2 runs, 1 loop each)\n",
    "\n",
    "El tiempo utilizando dos procesos es: 26.7 s ± 1.81 ms per loop (mean ± std. dev. of 2 runs, 1 loop each)\n",
    "\n",
    "El tiempo utilizando cuatro procesos es: 15.9 s ± 23.8 ms per loop (mean ± std. dev. of 2 runs, 1 loop each)\n",
    "\n",
    "#### Conclusiones:\n",
    "Como en el apartado 3.2, al emplear el paquete multiprocessing se observa una reducción del tiempo conforme se van aumentando el número de procesos. Dicho tiempo se reduce aproximadamente a la mitad cuando el número de procesos se duplica. Además, el uso de la función starmap nos permite pasarle varios argumentos a la función, al contrario de map, que solo nos permitía pasarle uno."
   ]
  }
 ],
 "metadata": {
  "kernelspec": {
   "display_name": "Python 3 (ipykernel)",
   "language": "python",
   "name": "python3"
  },
  "language_info": {
   "codemirror_mode": {
    "name": "ipython",
    "version": 3
   },
   "file_extension": ".py",
   "mimetype": "text/x-python",
   "name": "python",
   "nbconvert_exporter": "python",
   "pygments_lexer": "ipython3",
   "version": "3.10.9"
  }
 },
 "nbformat": 4,
 "nbformat_minor": 5
}
