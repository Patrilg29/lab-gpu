{
 "cells": [
  {
   "cell_type": "markdown",
   "id": "f942d288-be01-42cd-9b84-83529c6769be",
   "metadata": {},
   "source": [
    "## Reduction operation: the sum of the numbers in the range [0, value)"
   ]
  },
  {
   "cell_type": "code",
   "execution_count": 2,
   "id": "496946fa-2a28-4c1d-8a6a-2ee0b8fd8ced",
   "metadata": {},
   "outputs": [
    {
     "name": "stdout",
     "output_type": "stream",
     "text": [
      "Time taken by reduction operation using a function: 5.14 ms ± 171 µs per loop (mean ± std. dev. of 2 runs, 100 loops each)\n",
      "And the result of the sum of numbers in the range [0, value) is: 24944.383968771068\n",
      "\n",
      "Time taken by reduction operation using numpy.sum(): 14 µs ± 17.6 ns per loop (mean ± std. dev. of 2 runs, 100,000 loops each)\n",
      "Now, the result using numpy.sum(): 24944.383968770973 \n",
      " \n",
      "Time taken by reduction operation using numpy.ndarray.sum(): 11.9 µs ± 4.51 ns per loop (mean ± std. dev. of 2 runs, 100,000 loops each)\n",
      "Now, the result using numpy.ndarray.sum(): 24944.383968770973\n"
     ]
    }
   ],
   "source": [
    "import numpy as np\n",
    "import sys\n",
    "\n",
    "def reduc_operation(A):\n",
    "    \"\"\"Compute the sum of the elements of Array A in the range [0, value).\"\"\"\n",
    "    s = 0\n",
    "    for i in range(A.size):\n",
    "        s += A[i]\n",
    "    return s\n",
    "\n",
    "# Secuencial\n",
    "\n",
    "value = int(sys.argv[1])\n",
    "\n",
    "X = np.random.rand(value)\n",
    "\n",
    "# Para imprimir los pimeros valores del array\n",
    "\n",
    "# print(X[0:12])\n",
    "\n",
    "# Utilizando las operaciones mágicas de ipython\n",
    "\n",
    "tiempo = %timeit -r 2 -o -q reduc_operation(X)\n",
    "\n",
    "print(\"Time taken by reduction operation using a function:\", tiempo)\n",
    "\n",
    "\n",
    "print(f\"And the result of the sum of numbers in the range [0, value) is: {reduc_operation(X)}\\n\")\n",
    "\n",
    "\n",
    "# Utilizando numpy.sum()\n",
    "\n",
    "tiempo = %timeit -r 2 -o -q np.sum(X)\n",
    "\n",
    "print(\"Time taken by reduction operation using numpy.sum():\", tiempo)\n",
    "\n",
    "print(\"Now, the result using numpy.sum():\", np.sum(X),\"\\n \")\n",
    "\n",
    "\n",
    "# Utilizando numpy.ndarray.sum()\n",
    "\n",
    "tiempo= %timeit -r 2 -o -q X.sum()\n",
    "\n",
    "print(\"Time taken by reduction operation using numpy.ndarray.sum():\", tiempo)\n",
    "\n",
    "print(\"Now, the result using numpy.ndarray.sum():\", X.sum())\n",
    "\n",
    "\n"
   ]
  },
  {
   "cell_type": "markdown",
   "id": "0cef4f1f-3cd0-46a5-bd94-0977fd9e47ad",
   "metadata": {},
   "source": [
    "### EJERCICIO 3.3\n",
    "#### APARTADO A"
   ]
  },
  {
   "cell_type": "code",
   "execution_count": 4,
   "id": "0d43ed91-ac2c-4784-8484-519a30c2abbb",
   "metadata": {},
   "outputs": [
    {
     "name": "stdout",
     "output_type": "stream",
     "text": [
      "El tiempo empleado en la suma con cupy es: 17.9 µs ± 12.6 ns per loop (mean ± std. dev. of 2 runs, 100,000 loops each)\n"
     ]
    }
   ],
   "source": [
    "import cupy as cp # Importamos el paquete\n",
    "\n",
    "Y = cp.random.rand(value) # Creamos el array en la GPU\n",
    "\n",
    "# Ahora medimos el tiempo de la suma con cp\n",
    "tiempo = %timeit -r 2 -o -q cp.sum(Y)\n",
    "\n",
    "print(\"El tiempo empleado en la suma con cupy es:\", tiempo)"
   ]
  },
  {
   "cell_type": "markdown",
   "id": "6b2b6215-14cc-415c-8392-dcd737b725dc",
   "metadata": {},
   "source": [
    "#### Resultados de la ejecución en bohr-gpu:\n",
    "\n",
    "Ejecutando el script con el valor de 5000000 elementos\n",
    "\n",
    "Time taken by reduction operation using a function: 260 ms ± 353 µs per loop (mean ± std. dev. of 2 runs, 1 loop each)\n",
    "And the result of the sum of numbers in the range [0, value) is: 2499720.0682061655\n",
    "\n",
    "Time taken by reduction operation using numpy.sum(): 1.39 ms ± 1.6 µs per loop (mean ± std. dev. of 2 runs, 1,000 loops each)\n",
    "Now, the result using numpy.sum(): 2499720.0682063703\n",
    "\n",
    "Time taken by reduction operation using numpy.ndarray.sum(): 1.39 ms ± 1.43 µs per loop (mean ± std. dev. of 2 runs, 1,000 loops each)\n",
    "Now, the result using numpy.ndarray.sum(): 2499720.0682063703\n",
    "\n",
    "El tiempo empleado en la suma con cupy es: 25.7 µs ± 15.8 µs per loop (mean ± std. dev. of 2 runs, 1 loop each)\n",
    "\n",
    "\n",
    "Ejecutando el script con el valor de 50000000 elementos\n",
    "\n",
    "Time taken by reduction operation using a function: 2.56 s ± 1.81 ms per loop (mean ± std. dev. of 2 runs, 1 loop each)\n",
    "And the result of the sum of numbers in the range [0, value) is: 25001708.101016495\n",
    "\n",
    "Time taken by reduction operation using numpy.sum(): 17.7 ms ± 4.35 µs per loop (mean ± std. dev. of 2 runs, 100 loops each)\n",
    "Now, the result using numpy.sum(): 25001708.101022553\n",
    "\n",
    "Time taken by reduction operation using numpy.ndarray.sum(): 17.7 ms ± 9.38 µs per loop (mean ± std. dev. of 2 runs, 100 loops each)\n",
    "Now, the result using numpy.ndarray.sum(): 25001708.101022553\n",
    "\n",
    "El tiempo empleado en la suma con cupy es: 691 µs ± 54 ns per loop (mean ± std. dev. of 2 runs, 1,000 loops each)\n",
    "\n",
    "\n",
    "Ejecutando el script con el valor de 500000000 elementos\n",
    "\n",
    "Time taken by reduction operation using a function: 54.4 s ± 19.7 ms per loop (mean ± std. dev. of 2 runs, 1 loop each)\n",
    "And the result of the sum of numbers in the range [0, value) is: 249990389.5794505\n",
    "\n",
    "Time taken by reduction operation using numpy.sum(): 215 ms ± 8.31 µs per loop (mean ± std. dev. of 2 runs, 1 loop each)\n",
    "Now, the result using numpy.sum(): 249990389.57945037\n",
    "\n",
    "Time taken by reduction operation using numpy.ndarray.sum(): 215 ms ± 20.1 µs per loop (mean ± std. dev. of 2 runs, 1 loop each)\n",
    "Now, the result using numpy.ndarray.sum(): 249990389.57945037\n",
    "\n",
    "El tiempo empleado en la suma con cupy es: 6.82 ms ± 35.1 ns per loop (mean ± std. dev. of 2 runs, 1,000 loops each)\n",
    "\n",
    "#### Conclusiones:\n",
    "La utilización del paquete *cupy* y la ejecución en una cola con GPU disminuyen considerablemente el tiempo, llegando al orden de µs con los dos primeros valores, y pasando a solo unos 7 ms cuando el valor es 5*10^8."
   ]
  }
 ],
 "metadata": {
  "kernelspec": {
   "display_name": "Python 3 (ipykernel)",
   "language": "python",
   "name": "python3"
  },
  "language_info": {
   "codemirror_mode": {
    "name": "ipython",
    "version": 3
   },
   "file_extension": ".py",
   "mimetype": "text/x-python",
   "name": "python",
   "nbconvert_exporter": "python",
   "pygments_lexer": "ipython3",
   "version": "3.8.17"
  }
 },
 "nbformat": 4,
 "nbformat_minor": 5
}
