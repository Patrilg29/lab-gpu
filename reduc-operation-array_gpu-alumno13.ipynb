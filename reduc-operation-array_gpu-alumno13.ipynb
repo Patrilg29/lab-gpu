{
 "cells": [
  {
   "cell_type": "markdown",
   "id": "f942d288-be01-42cd-9b84-83529c6769be",
   "metadata": {},
   "source": [
    "## Reduction operation: the sum of the numbers in the range [0, value)"
   ]
  },
  {
   "cell_type": "code",
   "execution_count": 7,
   "id": "496946fa-2a28-4c1d-8a6a-2ee0b8fd8ced",
   "metadata": {},
   "outputs": [
    {
     "name": "stdout",
     "output_type": "stream",
     "text": [
      "Time taken by reduction operation using a function: 4.81 ms ± 26.2 µs per loop (mean ± std. dev. of 2 runs, 100 loops each)\n",
      "And the result of the sum of numbers in the range [0, value) is: 25007.37808310279\n",
      "\n",
      "Time taken by reduction operation using numpy.sum(): 13.9 µs ± 2.05 ns per loop (mean ± std. dev. of 2 runs, 100,000 loops each)\n",
      "Now, the result using numpy.sum(): 25007.378083102678 \n",
      " \n",
      "Time taken by reduction operation using numpy.ndarray.sum(): 11.8 µs ± 26.2 ns per loop (mean ± std. dev. of 2 runs, 100,000 loops each)\n",
      "Now, the result using numpy.ndarray.sum(): 25007.378083102678\n"
     ]
    }
   ],
   "source": [
    "import numpy as np\n",
    "import sys\n",
    "\n",
    "def reduc_operation(A):\n",
    "    \"\"\"Compute the sum of the elements of Array A in the range [0, value).\"\"\"\n",
    "    s = 0\n",
    "    for i in range(A.size):\n",
    "        s += A[i]\n",
    "    return s\n",
    "\n",
    "# Secuencial\n",
    "\n",
    "value = int(sys.argv[1])\n",
    "\n",
    "X = np.random.rand(value)\n",
    "\n",
    "# Para imprimir los pimeros valores del array\n",
    "\n",
    "# print(X[0:12])\n",
    "\n",
    "# Utilizando las operaciones mágicas de ipython\n",
    "\n",
    "tiempo = %timeit -r 2 -o -q reduc_operation(X)\n",
    "\n",
    "print(\"Time taken by reduction operation using a function:\", tiempo)\n",
    "\n",
    "\n",
    "print(f\"And the result of the sum of numbers in the range [0, value) is: {reduc_operation(X)}\\n\")\n",
    "\n",
    "\n",
    "# Utilizando numpy.sum()\n",
    "\n",
    "tiempo = %timeit -r 2 -o -q np.sum(X)\n",
    "\n",
    "print(\"Time taken by reduction operation using numpy.sum():\", tiempo)\n",
    "\n",
    "print(\"Now, the result using numpy.sum():\", np.sum(X),\"\\n \")\n",
    "\n",
    "\n",
    "# Utilizando numpy.ndarray.sum()\n",
    "\n",
    "tiempo= %timeit -r 2 -o -q X.sum()\n",
    "\n",
    "print(\"Time taken by reduction operation using numpy.ndarray.sum():\", tiempo)\n",
    "\n",
    "print(\"Now, the result using numpy.ndarray.sum():\", X.sum())\n",
    "\n",
    "\n"
   ]
  },
  {
   "cell_type": "markdown",
   "id": "0cef4f1f-3cd0-46a5-bd94-0977fd9e47ad",
   "metadata": {},
   "source": [
    "### EJERCICIO 3.3\n",
    "#### APARTADO A"
   ]
  },
  {
   "cell_type": "code",
   "execution_count": 39,
   "id": "0d43ed91-ac2c-4784-8484-519a30c2abbb",
   "metadata": {},
   "outputs": [
    {
     "name": "stdout",
     "output_type": "stream",
     "text": [
      "El tiempo empleado en la suma con cupy es 0.045 milisegundos.\n",
      "El resultado de la suma es 25046.111916890317\n"
     ]
    }
   ],
   "source": [
    "import numpy as np\n",
    "import cupy as cp \n",
    "from cupyx.profiler import benchmark\n",
    "import sys # Importamos los paquetes\n",
    "\n",
    "value = int(sys.argv[1])\n",
    "Y = cp.random.rand(value) # Creamos el array en la GPU\n",
    "\n",
    "# Ahora medimos el tiempo de la suma con cp\n",
    "tiempos_gpu = benchmark(cp.sum, (Y,), n_repeat=10, n_warmup=2)\n",
    "\n",
    "# Calculamos la media de los tiempos y lo convertimos a ms\n",
    "tiempo_medio = np.average(tiempos_gpu.gpu_times) * 1e3\n",
    "\n",
    "print(f\"El tiempo empleado en la suma con cupy es {tiempo_medio:.3f} milisegundos.\")\n",
    "print(\"El resultado de la suma es\", cp.sum(Y))"
   ]
  },
  {
   "cell_type": "markdown",
   "id": "6b2b6215-14cc-415c-8392-dcd737b725dc",
   "metadata": {},
   "source": [
    "#### Resultados de la ejecución en bohr-gpu:\n",
    "\n",
    "Ejecutando el script con el valor de 5000000 elementos\n",
    "\n",
    "Time taken by reduction operation using a function: 536 ms ± 171 µs per loop (mean ± std. dev. of 2 runs, 1 loop each)\n",
    "And the result of the sum of numbers in the range [0, value) is: 2499339.765069698\n",
    "\n",
    "Time taken by reduction operation using numpy.sum(): 2.05 ms ± 636 ns per loop (mean ± std. dev. of 2 runs, 100 loops each)\n",
    "Now, the result using numpy.sum(): 2499339.765069741\n",
    "\n",
    "Time taken by reduction operation using numpy.ndarray.sum(): 2.04 ms ± 932 ns per loop (mean ± std. dev. of 2 runs, 100 loops each)\n",
    "Now, the result using numpy.ndarray.sum(): 2499339.765069741\n",
    "\n",
    "El tiempo empleado en la suma con cupy es 0.086 milisegundos.\n",
    "El resultado de la suma es 2500216.390959031\n",
    "\n",
    "Ejecutando el script con el valor de 50000000 elementos\n",
    "\n",
    "Time taken by reduction operation using a function: 2.7 s ± 651 µs per loop (mean ± std. dev. of 2 runs, 1 loop each)\n",
    "And the result of the sum of numbers in the range [0, value) is: 25001907.312928956\n",
    "\n",
    "Time taken by reduction operation using numpy.sum(): 17.8 ms ± 921 ns per loop (mean ± std. dev. of 2 runs, 100 loops each)\n",
    "Now, the result using numpy.sum(): 25001907.312925413\n",
    "\n",
    "Time taken by reduction operation using numpy.ndarray.sum(): 17.8 ms ± 5.57 µs per loop (mean ± std. dev. of 2 runs, 100 loops each)\n",
    "Now, the result using numpy.ndarray.sum(): 25001907.312925413\n",
    "\n",
    "El tiempo empleado en la suma con cupy es 0.716 milisegundos.\n",
    "El resultado de la suma es 24998738.856534127\n",
    "\n",
    "Ejecutando el script con el valor de 500000000 elementos\n",
    "\n",
    "Time taken by reduction operation using a function: 25.7 s ± 24.6 ms per loop (mean ± std. dev. of 2 runs, 1 loop each)\n",
    "And the result of the sum of numbers in the range [0, value) is: 249991982.529075\n",
    "\n",
    "Time taken by reduction operation using numpy.sum(): 179 ms ± 8.9 µs per loop (mean ± std. dev. of 2 runs, 10 loops each)\n",
    "Now, the result using numpy.sum(): 249991982.52918264\n",
    "\n",
    "Time taken by reduction operation using numpy.ndarray.sum(): 180 ms ± 50.6 µs per loop (mean ± std. dev. of 2 runs, 10 loops each)\n",
    "Now, the result using numpy.ndarray.sum(): 249991982.52918264\n",
    "\n",
    "El tiempo empleado en la suma con cupy es 6.839 milisegundos.\n",
    "El resultado de la suma es 249992925.22264686\n",
    "\n",
    "#### Conclusiones:\n",
    "Podemos observar que el utilización del paquete CuPy y la ejecución en una cola con GPU disminuyen considerablemente el tiempo de la suma. La reducción de tiempo con respecto al resto de funciones aumenta conforme incrementamos el número de elementos a sumar."
   ]
  }
 ],
 "metadata": {
  "kernelspec": {
   "display_name": "Python 3 (ipykernel)",
   "language": "python",
   "name": "python3"
  },
  "language_info": {
   "codemirror_mode": {
    "name": "ipython",
    "version": 3
   },
   "file_extension": ".py",
   "mimetype": "text/x-python",
   "name": "python",
   "nbconvert_exporter": "python",
   "pygments_lexer": "ipython3",
   "version": "3.8.17"
  }
 },
 "nbformat": 4,
 "nbformat_minor": 5
}
