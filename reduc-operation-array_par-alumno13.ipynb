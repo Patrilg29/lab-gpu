{
 "cells": [
  {
   "cell_type": "markdown",
   "id": "f942d288-be01-42cd-9b84-83529c6769be",
   "metadata": {},
   "source": [
    "## Reduction operation: the sum of the numbers in the range [0, value)"
   ]
  },
  {
   "cell_type": "code",
   "execution_count": 1,
   "id": "496946fa-2a28-4c1d-8a6a-2ee0b8fd8ced",
   "metadata": {},
   "outputs": [
    {
     "name": "stdout",
     "output_type": "stream",
     "text": [
      "Time taken by reduction operation using a function: 45.5 ms ± 41.1 µs per loop (mean ± std. dev. of 2 runs, 10 loops each)\n",
      "And the result of the sum of numbers in the range [0, value) is: 24999.3936937227\n",
      "\n",
      "Time taken by reduction operation using numpy.sum(): 91.1 µs ± 889 ns per loop (mean ± std. dev. of 2 runs, 10,000 loops each)\n",
      "Now, the result using numpy.sum(): 24999.39369372282 \n",
      " \n",
      "Time taken by reduction operation using numpy.ndarray.sum(): 72 µs ± 58.9 ns per loop (mean ± std. dev. of 2 runs, 10,000 loops each)\n",
      "Now, the result using numpy.ndarray.sum(): 24999.39369372282\n"
     ]
    }
   ],
   "source": [
    "import numpy as np\n",
    "import sys\n",
    "\n",
    "def reduc_operation(A):\n",
    "    \"\"\"Compute the sum of the elements of Array A in the range [0, value).\"\"\"\n",
    "    s = 0\n",
    "    for i in range(A.size):\n",
    "        s += A[i]\n",
    "    return s\n",
    "\n",
    "# Secuencial\n",
    "\n",
    "value = int(sys.argv[1])\n",
    "\n",
    "X = np.random.rand(value)\n",
    "\n",
    "# Para imprimir los pimeros valores del array\n",
    "\n",
    "# print(X[0:12])\n",
    "\n",
    "# Utilizando las operaciones mágicas de ipython\n",
    "\n",
    "tiempo = %timeit -r 2 -o -q reduc_operation(X)\n",
    "\n",
    "print(\"Time taken by reduction operation using a function:\", tiempo)\n",
    "\n",
    "\n",
    "print(f\"And the result of the sum of numbers in the range [0, value) is: {reduc_operation(X)}\\n\")\n",
    "\n",
    "\n",
    "# Utilizando numpy.sum()\n",
    "\n",
    "tiempo = %timeit -r 2 -o -q np.sum(X)\n",
    "\n",
    "print(\"Time taken by reduction operation using numpy.sum():\", tiempo)\n",
    "\n",
    "print(\"Now, the result using numpy.sum():\", np.sum(X),\"\\n \")\n",
    "\n",
    "\n",
    "# Utilizando numpy.ndarray.sum()\n",
    "\n",
    "tiempo= %timeit -r 2 -o -q X.sum()\n",
    "\n",
    "print(\"Time taken by reduction operation using numpy.ndarray.sum():\", tiempo)\n",
    "\n",
    "print(\"Now, the result using numpy.ndarray.sum():\", X.sum())\n",
    "\n",
    "\n"
   ]
  },
  {
   "cell_type": "markdown",
   "id": "f7ecea34-d117-4aae-ab13-3452cef0791e",
   "metadata": {},
   "source": [
    "### EJERCICIO 3.2\n",
    "#### APARTADO A"
   ]
  },
  {
   "cell_type": "code",
   "execution_count": 2,
   "id": "f77f26b1-6b25-4b61-9a9e-828228c84537",
   "metadata": {},
   "outputs": [
    {
     "name": "stdout",
     "output_type": "stream",
     "text": [
      "El tiempo utilizando solo un proceso es: 50.6 ms ± 192 µs per loop (mean ± std. dev. of 2 runs, 10 loops each)\n",
      "El tiempo utilizando dos procesos es: 29.6 ms ± 26.6 µs per loop (mean ± std. dev. of 2 runs, 10 loops each)\n",
      "El tiempo utilizando cuatro procesos es: 31.9 ms ± 252 µs per loop (mean ± std. dev. of 2 runs, 10 loops each)\n"
     ]
    }
   ],
   "source": [
    "from multiprocessing import Pool\n",
    "\n",
    "if __name__ == \"__main__\":\n",
    "    # Caso 1: con un solo proceso\n",
    "    with Pool(1) as p:\n",
    "        tiempo1 = %timeit -r 2 -o -q p.map(reduc_operation, [X])\n",
    "        print(\"El tiempo utilizando solo un proceso es:\", tiempo1)\n",
    "        \n",
    "    # Caso 2: con dos procesos\n",
    "    with Pool(2) as p:\n",
    "        # Creamos una lista con los subarrays\n",
    "        subarrays2 = [X[0:int(value/2)], X[int(value/2):value]]\n",
    "        tiempo2 = %timeit -r 2 -o -q p.map(reduc_operation, subarrays2)\n",
    "        print(\"El tiempo utilizando dos procesos es:\", tiempo2)\n",
    "                                          \n",
    "    # Caso 3: con cuatro procesos\n",
    "    with Pool(4) as p:\n",
    "        # Creamos una lista con los subarrays\n",
    "        subarrays4 = [X[0:int(value/4)], X[int(value/4):int(value/2)], X[int(value/2):int(3*value/4)], X[int(3*value/4):value]]\n",
    "        tiempo4 = %timeit -r 2 -o -q p.map(reduc_operation, subarrays4)\n",
    "        print(\"El tiempo utilizando cuatro procesos es:\", tiempo4)"
   ]
  },
  {
   "cell_type": "markdown",
   "id": "b6452cc8-dc22-4db1-b55f-cd021ac9230c",
   "metadata": {},
   "source": [
    "#### APARTADO B"
   ]
  },
  {
   "cell_type": "code",
   "execution_count": 3,
   "id": "9bb191d8-eefc-4352-b7f5-fe5ba33b91f5",
   "metadata": {},
   "outputs": [
    {
     "name": "stdout",
     "output_type": "stream",
     "text": [
      "El tiempo utilizando el decorador njit es: 237 µs ± 32.5 µs per loop (mean ± std. dev. of 2 runs, 1 loop each)\n",
      "El tiempo utilizando el decorador njit y ejecutando en paralelo es: 80.9 ms ± 35.2 ms per loop (mean ± std. dev. of 2 runs, 1 loop each)\n"
     ]
    }
   ],
   "source": [
    "from numba import njit, prange\n",
    "\n",
    "# Primera versión de la función (con decorador njit)\n",
    "@njit\n",
    "def reduc_operation_njit(A):\n",
    "    \"\"\"Compute the sum of the elements of Array A in the range [0, value).\"\"\"\n",
    "    s = 0\n",
    "    for i in range(A.size):\n",
    "        s += A[i]\n",
    "    return s\n",
    "\n",
    "tiempo = %timeit -r 2 -o -q reduc_operation_njit(X)\n",
    "\n",
    "print(\"El tiempo utilizando el decorador njit es:\", tiempo)\n",
    "\n",
    "# Segunda versión de la función (con decorador njit y paralelismo)\n",
    "@njit(parallel=True)\n",
    "def reduc_operation_njit_p(A):\n",
    "    \"\"\"Compute the sum of the elements of Array A in the range [0, value).\"\"\"\n",
    "    s = 0\n",
    "    for i in prange(A.size):\n",
    "        s += A[i]\n",
    "    return s\n",
    "\n",
    "tiempo = %timeit -r 2 -o -q reduc_operation_njit_p(X)\n",
    "\n",
    "print(\"El tiempo utilizando el decorador njit y ejecutando en paralelo es:\", tiempo)"
   ]
  },
  {
   "cell_type": "markdown",
   "id": "1c125c75-afb4-4519-a415-5cda7b08191c",
   "metadata": {},
   "source": [
    "#### Los resultados de ejecutar el notebook en la cola hpc-bio-pascal mediante sbatch son:\n",
    "Ejecutando el notebook con 50000000 elementos\n",
    "\n",
    "Time taken by reduction operation using a function: 45 s ± 17.5 ms per loop (mean ± std. dev. of 2 runs, 1 loop each)\n",
    "And the result of the sum of numbers in the range [0, value) is: 25000378.309147783\n",
    "\n",
    "Time taken by reduction operation using numpy.sum(): 59.8 ms ± 56 µs per loop (mean ± std. dev. of 2 runs, 10 loops each)\n",
    "Now, the result using numpy.sum(): 25000378.309139702\n",
    "\n",
    "Time taken by reduction operation using numpy.ndarray.sum(): 60.4 ms ± 664 µs per loop (mean ± std. dev. of 2 runs, 10 loops each)\n",
    "Now, the result using numpy.ndarray.sum(): 25000378.309139702\n",
    "\n",
    "El tiempo utilizando solo un proceso es: 47.6 s ± 9.02 ms per loop (mean ± std. dev. of 2 runs, 1 loop each)\n",
    "\n",
    "El tiempo utilizando dos procesos es: 25.5 s ± 483 µs per loop (mean ± std. dev. of 2 runs, 1 loop each)\n",
    "\n",
    "El tiempo utilizando cuatro procesos es: 13.3 s ± 5.74 ms per loop (mean ± std. dev. of 2 runs, 1 loop each)\n",
    "\n",
    "El tiempo utilizando el decorador njit es: 195 ms ± 81.1 µs per loop (mean ± std. dev. of 2 runs, 1 loop each)\n",
    "\n",
    "El tiempo utilizando el decorador njit y ejecutando en paralelo es: 15.7 ms ± 4.06 ms per loop (mean ± std. dev. of 2 runs, 1 loop each)\n",
    "\n",
    "#### Conclusiones:\n",
    "Al emplear el paquete multiprocessing se observa una reducción del tiempo conforme se van aumentando el número de procesos. Dicho tiempo se reduce aproximadamente a la mitad cuando el número de procesos se duplica.\n",
    "\n",
    "Por otro lado, al utilizar el decorador *njit* de *numba* se reduce considerablemente el tiempo, pasando del orden de segundos a milisegundos. Este tiempo se ve aún más reducido cuando se ejecuta en paralelo, suponiendo una reducción de aproximadamente 12X en comparación con su ejecución secuencial con el mismo decorador."
   ]
  }
 ],
 "metadata": {
  "kernelspec": {
   "display_name": "Python 3 (ipykernel)",
   "language": "python",
   "name": "python3"
  },
  "language_info": {
   "codemirror_mode": {
    "name": "ipython",
    "version": 3
   },
   "file_extension": ".py",
   "mimetype": "text/x-python",
   "name": "python",
   "nbconvert_exporter": "python",
   "pygments_lexer": "ipython3",
   "version": "3.10.9"
  }
 },
 "nbformat": 4,
 "nbformat_minor": 5
}
